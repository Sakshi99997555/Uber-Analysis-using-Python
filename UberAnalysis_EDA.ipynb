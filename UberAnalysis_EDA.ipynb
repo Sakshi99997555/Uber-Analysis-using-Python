{
 "cells": [
  {
   "cell_type": "code",
   "execution_count": 1,
   "id": "5ce7412c-45f7-4c10-9a06-9cb3b01e2c9c",
   "metadata": {},
   "outputs": [],
   "source": [
    "# Import libraries\n",
    "import pandas as pd\n",
    "import numpy as np \n",
    "import matplotlib.pyplot as plt\n",
    "import seaborn as sns"
   ]
  },
  {
   "cell_type": "code",
   "execution_count": 2,
   "id": "a88401e4-ebcd-4c67-ac44-3d6888931fec",
   "metadata": {},
   "outputs": [],
   "source": [
    "# import data \n",
    "dataset=pd.read_csv(\"UberDataset.csv\")"
   ]
  },
  {
   "cell_type": "code",
   "execution_count": 3,
   "id": "14f522a8-a361-4d57-86f3-f506a02586e9",
   "metadata": {},
   "outputs": [
    {
     "data": {
      "text/html": [
       "<div>\n",
       "<style scoped>\n",
       "    .dataframe tbody tr th:only-of-type {\n",
       "        vertical-align: middle;\n",
       "    }\n",
       "\n",
       "    .dataframe tbody tr th {\n",
       "        vertical-align: top;\n",
       "    }\n",
       "\n",
       "    .dataframe thead th {\n",
       "        text-align: right;\n",
       "    }\n",
       "</style>\n",
       "<table border=\"1\" class=\"dataframe\">\n",
       "  <thead>\n",
       "    <tr style=\"text-align: right;\">\n",
       "      <th></th>\n",
       "      <th>START_DATE</th>\n",
       "      <th>END_DATE</th>\n",
       "      <th>CATEGORY</th>\n",
       "      <th>START</th>\n",
       "      <th>STOP</th>\n",
       "      <th>MILES</th>\n",
       "      <th>PURPOSE</th>\n",
       "    </tr>\n",
       "  </thead>\n",
       "  <tbody>\n",
       "    <tr>\n",
       "      <th>0</th>\n",
       "      <td>01-01-2016 21:11</td>\n",
       "      <td>01-01-2016 21:17</td>\n",
       "      <td>Business</td>\n",
       "      <td>Fort Pierce</td>\n",
       "      <td>Fort Pierce</td>\n",
       "      <td>5.1</td>\n",
       "      <td>Meal/Entertain</td>\n",
       "    </tr>\n",
       "    <tr>\n",
       "      <th>1</th>\n",
       "      <td>01-02-2016 01:25</td>\n",
       "      <td>01-02-2016 01:37</td>\n",
       "      <td>Business</td>\n",
       "      <td>Fort Pierce</td>\n",
       "      <td>Fort Pierce</td>\n",
       "      <td>5.0</td>\n",
       "      <td>NaN</td>\n",
       "    </tr>\n",
       "    <tr>\n",
       "      <th>2</th>\n",
       "      <td>01-02-2016 20:25</td>\n",
       "      <td>01-02-2016 20:38</td>\n",
       "      <td>Business</td>\n",
       "      <td>Fort Pierce</td>\n",
       "      <td>Fort Pierce</td>\n",
       "      <td>4.8</td>\n",
       "      <td>Errand/Supplies</td>\n",
       "    </tr>\n",
       "    <tr>\n",
       "      <th>3</th>\n",
       "      <td>01-05-2016 17:31</td>\n",
       "      <td>01-05-2016 17:45</td>\n",
       "      <td>Business</td>\n",
       "      <td>Fort Pierce</td>\n",
       "      <td>Fort Pierce</td>\n",
       "      <td>4.7</td>\n",
       "      <td>Meeting</td>\n",
       "    </tr>\n",
       "    <tr>\n",
       "      <th>4</th>\n",
       "      <td>01-06-2016 14:42</td>\n",
       "      <td>01-06-2016 15:49</td>\n",
       "      <td>Business</td>\n",
       "      <td>Fort Pierce</td>\n",
       "      <td>West Palm Beach</td>\n",
       "      <td>63.7</td>\n",
       "      <td>Customer Visit</td>\n",
       "    </tr>\n",
       "    <tr>\n",
       "      <th>...</th>\n",
       "      <td>...</td>\n",
       "      <td>...</td>\n",
       "      <td>...</td>\n",
       "      <td>...</td>\n",
       "      <td>...</td>\n",
       "      <td>...</td>\n",
       "      <td>...</td>\n",
       "    </tr>\n",
       "    <tr>\n",
       "      <th>1151</th>\n",
       "      <td>12/31/2016 13:24</td>\n",
       "      <td>12/31/2016 13:42</td>\n",
       "      <td>Business</td>\n",
       "      <td>Kar?chi</td>\n",
       "      <td>Unknown Location</td>\n",
       "      <td>3.9</td>\n",
       "      <td>Temporary Site</td>\n",
       "    </tr>\n",
       "    <tr>\n",
       "      <th>1152</th>\n",
       "      <td>12/31/2016 15:03</td>\n",
       "      <td>12/31/2016 15:38</td>\n",
       "      <td>Business</td>\n",
       "      <td>Unknown Location</td>\n",
       "      <td>Unknown Location</td>\n",
       "      <td>16.2</td>\n",
       "      <td>Meeting</td>\n",
       "    </tr>\n",
       "    <tr>\n",
       "      <th>1153</th>\n",
       "      <td>12/31/2016 21:32</td>\n",
       "      <td>12/31/2016 21:50</td>\n",
       "      <td>Business</td>\n",
       "      <td>Katunayake</td>\n",
       "      <td>Gampaha</td>\n",
       "      <td>6.4</td>\n",
       "      <td>Temporary Site</td>\n",
       "    </tr>\n",
       "    <tr>\n",
       "      <th>1154</th>\n",
       "      <td>12/31/2016 22:08</td>\n",
       "      <td>12/31/2016 23:51</td>\n",
       "      <td>Business</td>\n",
       "      <td>Gampaha</td>\n",
       "      <td>Ilukwatta</td>\n",
       "      <td>48.2</td>\n",
       "      <td>Temporary Site</td>\n",
       "    </tr>\n",
       "    <tr>\n",
       "      <th>1155</th>\n",
       "      <td>Totals</td>\n",
       "      <td>NaN</td>\n",
       "      <td>NaN</td>\n",
       "      <td>NaN</td>\n",
       "      <td>NaN</td>\n",
       "      <td>12204.7</td>\n",
       "      <td>NaN</td>\n",
       "    </tr>\n",
       "  </tbody>\n",
       "</table>\n",
       "<p>1156 rows × 7 columns</p>\n",
       "</div>"
      ],
      "text/plain": [
       "            START_DATE          END_DATE  CATEGORY             START  \\\n",
       "0     01-01-2016 21:11  01-01-2016 21:17  Business       Fort Pierce   \n",
       "1     01-02-2016 01:25  01-02-2016 01:37  Business       Fort Pierce   \n",
       "2     01-02-2016 20:25  01-02-2016 20:38  Business       Fort Pierce   \n",
       "3     01-05-2016 17:31  01-05-2016 17:45  Business       Fort Pierce   \n",
       "4     01-06-2016 14:42  01-06-2016 15:49  Business       Fort Pierce   \n",
       "...                ...               ...       ...               ...   \n",
       "1151  12/31/2016 13:24  12/31/2016 13:42  Business           Kar?chi   \n",
       "1152  12/31/2016 15:03  12/31/2016 15:38  Business  Unknown Location   \n",
       "1153  12/31/2016 21:32  12/31/2016 21:50  Business        Katunayake   \n",
       "1154  12/31/2016 22:08  12/31/2016 23:51  Business           Gampaha   \n",
       "1155            Totals               NaN       NaN               NaN   \n",
       "\n",
       "                  STOP    MILES          PURPOSE  \n",
       "0          Fort Pierce      5.1   Meal/Entertain  \n",
       "1          Fort Pierce      5.0              NaN  \n",
       "2          Fort Pierce      4.8  Errand/Supplies  \n",
       "3          Fort Pierce      4.7          Meeting  \n",
       "4      West Palm Beach     63.7   Customer Visit  \n",
       "...                ...      ...              ...  \n",
       "1151  Unknown Location      3.9   Temporary Site  \n",
       "1152  Unknown Location     16.2          Meeting  \n",
       "1153           Gampaha      6.4   Temporary Site  \n",
       "1154         Ilukwatta     48.2   Temporary Site  \n",
       "1155               NaN  12204.7              NaN  \n",
       "\n",
       "[1156 rows x 7 columns]"
      ]
     },
     "execution_count": 3,
     "metadata": {},
     "output_type": "execute_result"
    }
   ],
   "source": [
    "#Check Data\n",
    "dataset"
   ]
  },
  {
   "cell_type": "code",
   "execution_count": 4,
   "id": "214bf319-c44b-4d89-9045-be7ae1fdceee",
   "metadata": {},
   "outputs": [
    {
     "data": {
      "text/plain": [
       "(1156, 7)"
      ]
     },
     "execution_count": 4,
     "metadata": {},
     "output_type": "execute_result"
    }
   ],
   "source": [
    "# check database shape(rows & columns)\n",
    "dataset.shape"
   ]
  },
  {
   "cell_type": "code",
   "execution_count": 5,
   "id": "ed07cdc9-53ce-4386-9699-3c64847bf6d3",
   "metadata": {},
   "outputs": [
    {
     "name": "stdout",
     "output_type": "stream",
     "text": [
      "<class 'pandas.core.frame.DataFrame'>\n",
      "RangeIndex: 1156 entries, 0 to 1155\n",
      "Data columns (total 7 columns):\n",
      " #   Column      Non-Null Count  Dtype  \n",
      "---  ------      --------------  -----  \n",
      " 0   START_DATE  1156 non-null   object \n",
      " 1   END_DATE    1155 non-null   object \n",
      " 2   CATEGORY    1155 non-null   object \n",
      " 3   START       1155 non-null   object \n",
      " 4   STOP        1155 non-null   object \n",
      " 5   MILES       1156 non-null   float64\n",
      " 6   PURPOSE     653 non-null    object \n",
      "dtypes: float64(1), object(6)\n",
      "memory usage: 63.3+ KB\n"
     ]
    }
   ],
   "source": [
    "# Check Dataset Information\n",
    "dataset.info()"
   ]
  },
  {
   "cell_type": "markdown",
   "id": "4c80e357-6955-470b-8c06-b720848c2339",
   "metadata": {},
   "source": [
    "# Data Preprocessing"
   ]
  },
  {
   "cell_type": "code",
   "execution_count": 7,
   "id": "27b56178-7d94-4ed9-ac92-e088a3eccfc4",
   "metadata": {},
   "outputs": [
    {
     "name": "stderr",
     "output_type": "stream",
     "text": [
      "C:\\Users\\ADMIN\\AppData\\Local\\Temp\\ipykernel_4744\\526146912.py:4: FutureWarning: A value is trying to be set on a copy of a DataFrame or Series through chained assignment using an inplace method.\n",
      "The behavior will change in pandas 3.0. This inplace method will never work because the intermediate object on which we are setting values always behaves as a copy.\n",
      "\n",
      "For example, when doing 'df[col].method(value, inplace=True)', try using 'df.method({col: value}, inplace=True)' or df[col] = df[col].method(value) instead, to perform the operation inplace on the original object.\n",
      "\n",
      "\n",
      "  dataset['PURPOSE'].fillna(\"NOT\",inplace=True)\n"
     ]
    }
   ],
   "source": [
    "# Handling Missing Values\n",
    "#Purpose column have lot of missing values\n",
    "\n",
    "dataset['PURPOSE'].fillna(\"NOT\",inplace=True)"
   ]
  },
  {
   "cell_type": "code",
   "execution_count": 8,
   "id": "3fcbb144-4204-4c2e-96b4-cc43a6f1d0c1",
   "metadata": {},
   "outputs": [
    {
     "data": {
      "text/html": [
       "<div>\n",
       "<style scoped>\n",
       "    .dataframe tbody tr th:only-of-type {\n",
       "        vertical-align: middle;\n",
       "    }\n",
       "\n",
       "    .dataframe tbody tr th {\n",
       "        vertical-align: top;\n",
       "    }\n",
       "\n",
       "    .dataframe thead th {\n",
       "        text-align: right;\n",
       "    }\n",
       "</style>\n",
       "<table border=\"1\" class=\"dataframe\">\n",
       "  <thead>\n",
       "    <tr style=\"text-align: right;\">\n",
       "      <th></th>\n",
       "      <th>START_DATE</th>\n",
       "      <th>END_DATE</th>\n",
       "      <th>CATEGORY</th>\n",
       "      <th>START</th>\n",
       "      <th>STOP</th>\n",
       "      <th>MILES</th>\n",
       "      <th>PURPOSE</th>\n",
       "    </tr>\n",
       "  </thead>\n",
       "  <tbody>\n",
       "    <tr>\n",
       "      <th>0</th>\n",
       "      <td>01-01-2016 21:11</td>\n",
       "      <td>01-01-2016 21:17</td>\n",
       "      <td>Business</td>\n",
       "      <td>Fort Pierce</td>\n",
       "      <td>Fort Pierce</td>\n",
       "      <td>5.1</td>\n",
       "      <td>Meal/Entertain</td>\n",
       "    </tr>\n",
       "    <tr>\n",
       "      <th>1</th>\n",
       "      <td>01-02-2016 01:25</td>\n",
       "      <td>01-02-2016 01:37</td>\n",
       "      <td>Business</td>\n",
       "      <td>Fort Pierce</td>\n",
       "      <td>Fort Pierce</td>\n",
       "      <td>5.0</td>\n",
       "      <td>NOT</td>\n",
       "    </tr>\n",
       "    <tr>\n",
       "      <th>2</th>\n",
       "      <td>01-02-2016 20:25</td>\n",
       "      <td>01-02-2016 20:38</td>\n",
       "      <td>Business</td>\n",
       "      <td>Fort Pierce</td>\n",
       "      <td>Fort Pierce</td>\n",
       "      <td>4.8</td>\n",
       "      <td>Errand/Supplies</td>\n",
       "    </tr>\n",
       "    <tr>\n",
       "      <th>3</th>\n",
       "      <td>01-05-2016 17:31</td>\n",
       "      <td>01-05-2016 17:45</td>\n",
       "      <td>Business</td>\n",
       "      <td>Fort Pierce</td>\n",
       "      <td>Fort Pierce</td>\n",
       "      <td>4.7</td>\n",
       "      <td>Meeting</td>\n",
       "    </tr>\n",
       "    <tr>\n",
       "      <th>4</th>\n",
       "      <td>01-06-2016 14:42</td>\n",
       "      <td>01-06-2016 15:49</td>\n",
       "      <td>Business</td>\n",
       "      <td>Fort Pierce</td>\n",
       "      <td>West Palm Beach</td>\n",
       "      <td>63.7</td>\n",
       "      <td>Customer Visit</td>\n",
       "    </tr>\n",
       "  </tbody>\n",
       "</table>\n",
       "</div>"
      ],
      "text/plain": [
       "         START_DATE          END_DATE  CATEGORY        START             STOP  \\\n",
       "0  01-01-2016 21:11  01-01-2016 21:17  Business  Fort Pierce      Fort Pierce   \n",
       "1  01-02-2016 01:25  01-02-2016 01:37  Business  Fort Pierce      Fort Pierce   \n",
       "2  01-02-2016 20:25  01-02-2016 20:38  Business  Fort Pierce      Fort Pierce   \n",
       "3  01-05-2016 17:31  01-05-2016 17:45  Business  Fort Pierce      Fort Pierce   \n",
       "4  01-06-2016 14:42  01-06-2016 15:49  Business  Fort Pierce  West Palm Beach   \n",
       "\n",
       "   MILES          PURPOSE  \n",
       "0    5.1   Meal/Entertain  \n",
       "1    5.0              NOT  \n",
       "2    4.8  Errand/Supplies  \n",
       "3    4.7          Meeting  \n",
       "4   63.7   Customer Visit  "
      ]
     },
     "execution_count": 8,
     "metadata": {},
     "output_type": "execute_result"
    }
   ],
   "source": [
    "dataset.head()"
   ]
  },
  {
   "cell_type": "code",
   "execution_count": 9,
   "id": "2f7cb3e1-60ce-466a-b60b-fcb1b29cff38",
   "metadata": {},
   "outputs": [],
   "source": [
    "# Change Datatype \n",
    "dataset['START_DATE']=pd.to_datetime(dataset['START_DATE'],errors='coerce')\n",
    "dataset['END_DATE']=pd.to_datetime(dataset['END_DATE'],errors='coerce')"
   ]
  },
  {
   "cell_type": "code",
   "execution_count": 10,
   "id": "d955e3a7-ba85-4f03-b788-acbbe17eacc4",
   "metadata": {},
   "outputs": [
    {
     "name": "stdout",
     "output_type": "stream",
     "text": [
      "<class 'pandas.core.frame.DataFrame'>\n",
      "RangeIndex: 1156 entries, 0 to 1155\n",
      "Data columns (total 7 columns):\n",
      " #   Column      Non-Null Count  Dtype         \n",
      "---  ------      --------------  -----         \n",
      " 0   START_DATE  421 non-null    datetime64[ns]\n",
      " 1   END_DATE    420 non-null    datetime64[ns]\n",
      " 2   CATEGORY    1155 non-null   object        \n",
      " 3   START       1155 non-null   object        \n",
      " 4   STOP        1155 non-null   object        \n",
      " 5   MILES       1156 non-null   float64       \n",
      " 6   PURPOSE     1156 non-null   object        \n",
      "dtypes: datetime64[ns](2), float64(1), object(4)\n",
      "memory usage: 63.3+ KB\n"
     ]
    }
   ],
   "source": [
    "dataset.info()"
   ]
  },
  {
   "cell_type": "code",
   "execution_count": 11,
   "id": "ec17d978-dd53-4491-a9c5-cb7ed1890fbd",
   "metadata": {},
   "outputs": [],
   "source": [
    "#Add New column (Date,Time,Day_Night)\n",
    "from datetime import datetime\n",
    "dataset['DATE']=pd.DatetimeIndex(dataset['START_DATE']).date\n",
    "dataset['TIME']=pd.DatetimeIndex(dataset['START_DATE']).hour"
   ]
  },
  {
   "cell_type": "code",
   "execution_count": 12,
   "id": "019bbc06-df67-4dd0-8f7a-57984c0aa9e4",
   "metadata": {},
   "outputs": [
    {
     "data": {
      "text/html": [
       "<div>\n",
       "<style scoped>\n",
       "    .dataframe tbody tr th:only-of-type {\n",
       "        vertical-align: middle;\n",
       "    }\n",
       "\n",
       "    .dataframe tbody tr th {\n",
       "        vertical-align: top;\n",
       "    }\n",
       "\n",
       "    .dataframe thead th {\n",
       "        text-align: right;\n",
       "    }\n",
       "</style>\n",
       "<table border=\"1\" class=\"dataframe\">\n",
       "  <thead>\n",
       "    <tr style=\"text-align: right;\">\n",
       "      <th></th>\n",
       "      <th>START_DATE</th>\n",
       "      <th>END_DATE</th>\n",
       "      <th>CATEGORY</th>\n",
       "      <th>START</th>\n",
       "      <th>STOP</th>\n",
       "      <th>MILES</th>\n",
       "      <th>PURPOSE</th>\n",
       "      <th>DATE</th>\n",
       "      <th>TIME</th>\n",
       "    </tr>\n",
       "  </thead>\n",
       "  <tbody>\n",
       "    <tr>\n",
       "      <th>0</th>\n",
       "      <td>2016-01-01 21:11:00</td>\n",
       "      <td>2016-01-01 21:17:00</td>\n",
       "      <td>Business</td>\n",
       "      <td>Fort Pierce</td>\n",
       "      <td>Fort Pierce</td>\n",
       "      <td>5.1</td>\n",
       "      <td>Meal/Entertain</td>\n",
       "      <td>2016-01-01</td>\n",
       "      <td>21.0</td>\n",
       "    </tr>\n",
       "    <tr>\n",
       "      <th>1</th>\n",
       "      <td>2016-01-02 01:25:00</td>\n",
       "      <td>2016-01-02 01:37:00</td>\n",
       "      <td>Business</td>\n",
       "      <td>Fort Pierce</td>\n",
       "      <td>Fort Pierce</td>\n",
       "      <td>5.0</td>\n",
       "      <td>NOT</td>\n",
       "      <td>2016-01-02</td>\n",
       "      <td>1.0</td>\n",
       "    </tr>\n",
       "    <tr>\n",
       "      <th>2</th>\n",
       "      <td>2016-01-02 20:25:00</td>\n",
       "      <td>2016-01-02 20:38:00</td>\n",
       "      <td>Business</td>\n",
       "      <td>Fort Pierce</td>\n",
       "      <td>Fort Pierce</td>\n",
       "      <td>4.8</td>\n",
       "      <td>Errand/Supplies</td>\n",
       "      <td>2016-01-02</td>\n",
       "      <td>20.0</td>\n",
       "    </tr>\n",
       "    <tr>\n",
       "      <th>3</th>\n",
       "      <td>2016-01-05 17:31:00</td>\n",
       "      <td>2016-01-05 17:45:00</td>\n",
       "      <td>Business</td>\n",
       "      <td>Fort Pierce</td>\n",
       "      <td>Fort Pierce</td>\n",
       "      <td>4.7</td>\n",
       "      <td>Meeting</td>\n",
       "      <td>2016-01-05</td>\n",
       "      <td>17.0</td>\n",
       "    </tr>\n",
       "    <tr>\n",
       "      <th>4</th>\n",
       "      <td>2016-01-06 14:42:00</td>\n",
       "      <td>2016-01-06 15:49:00</td>\n",
       "      <td>Business</td>\n",
       "      <td>Fort Pierce</td>\n",
       "      <td>West Palm Beach</td>\n",
       "      <td>63.7</td>\n",
       "      <td>Customer Visit</td>\n",
       "      <td>2016-01-06</td>\n",
       "      <td>14.0</td>\n",
       "    </tr>\n",
       "  </tbody>\n",
       "</table>\n",
       "</div>"
      ],
      "text/plain": [
       "           START_DATE            END_DATE  CATEGORY        START  \\\n",
       "0 2016-01-01 21:11:00 2016-01-01 21:17:00  Business  Fort Pierce   \n",
       "1 2016-01-02 01:25:00 2016-01-02 01:37:00  Business  Fort Pierce   \n",
       "2 2016-01-02 20:25:00 2016-01-02 20:38:00  Business  Fort Pierce   \n",
       "3 2016-01-05 17:31:00 2016-01-05 17:45:00  Business  Fort Pierce   \n",
       "4 2016-01-06 14:42:00 2016-01-06 15:49:00  Business  Fort Pierce   \n",
       "\n",
       "              STOP  MILES          PURPOSE        DATE  TIME  \n",
       "0      Fort Pierce    5.1   Meal/Entertain  2016-01-01  21.0  \n",
       "1      Fort Pierce    5.0              NOT  2016-01-02   1.0  \n",
       "2      Fort Pierce    4.8  Errand/Supplies  2016-01-02  20.0  \n",
       "3      Fort Pierce    4.7          Meeting  2016-01-05  17.0  \n",
       "4  West Palm Beach   63.7   Customer Visit  2016-01-06  14.0  "
      ]
     },
     "execution_count": 12,
     "metadata": {},
     "output_type": "execute_result"
    }
   ],
   "source": [
    "dataset.head()"
   ]
  },
  {
   "cell_type": "code",
   "execution_count": 13,
   "id": "631b65b2-eba7-4379-9468-440756463cca",
   "metadata": {},
   "outputs": [],
   "source": [
    "#Add column day_night\n",
    "dataset['DAY_NIGHT'] =pd.cut(x =dataset['TIME'],bins=[0,10,15,19,24],labels=['Morning','Afternoon','Evening','Night'])"
   ]
  },
  {
   "cell_type": "code",
   "execution_count": 14,
   "id": "8d38392e-a70e-4dbe-a560-25eec98f6f6f",
   "metadata": {},
   "outputs": [
    {
     "data": {
      "text/html": [
       "<div>\n",
       "<style scoped>\n",
       "    .dataframe tbody tr th:only-of-type {\n",
       "        vertical-align: middle;\n",
       "    }\n",
       "\n",
       "    .dataframe tbody tr th {\n",
       "        vertical-align: top;\n",
       "    }\n",
       "\n",
       "    .dataframe thead th {\n",
       "        text-align: right;\n",
       "    }\n",
       "</style>\n",
       "<table border=\"1\" class=\"dataframe\">\n",
       "  <thead>\n",
       "    <tr style=\"text-align: right;\">\n",
       "      <th></th>\n",
       "      <th>START_DATE</th>\n",
       "      <th>END_DATE</th>\n",
       "      <th>CATEGORY</th>\n",
       "      <th>START</th>\n",
       "      <th>STOP</th>\n",
       "      <th>MILES</th>\n",
       "      <th>PURPOSE</th>\n",
       "      <th>DATE</th>\n",
       "      <th>TIME</th>\n",
       "      <th>DAY_NIGHT</th>\n",
       "    </tr>\n",
       "  </thead>\n",
       "  <tbody>\n",
       "    <tr>\n",
       "      <th>0</th>\n",
       "      <td>2016-01-01 21:11:00</td>\n",
       "      <td>2016-01-01 21:17:00</td>\n",
       "      <td>Business</td>\n",
       "      <td>Fort Pierce</td>\n",
       "      <td>Fort Pierce</td>\n",
       "      <td>5.1</td>\n",
       "      <td>Meal/Entertain</td>\n",
       "      <td>2016-01-01</td>\n",
       "      <td>21.0</td>\n",
       "      <td>Night</td>\n",
       "    </tr>\n",
       "    <tr>\n",
       "      <th>1</th>\n",
       "      <td>2016-01-02 01:25:00</td>\n",
       "      <td>2016-01-02 01:37:00</td>\n",
       "      <td>Business</td>\n",
       "      <td>Fort Pierce</td>\n",
       "      <td>Fort Pierce</td>\n",
       "      <td>5.0</td>\n",
       "      <td>NOT</td>\n",
       "      <td>2016-01-02</td>\n",
       "      <td>1.0</td>\n",
       "      <td>Morning</td>\n",
       "    </tr>\n",
       "    <tr>\n",
       "      <th>2</th>\n",
       "      <td>2016-01-02 20:25:00</td>\n",
       "      <td>2016-01-02 20:38:00</td>\n",
       "      <td>Business</td>\n",
       "      <td>Fort Pierce</td>\n",
       "      <td>Fort Pierce</td>\n",
       "      <td>4.8</td>\n",
       "      <td>Errand/Supplies</td>\n",
       "      <td>2016-01-02</td>\n",
       "      <td>20.0</td>\n",
       "      <td>Night</td>\n",
       "    </tr>\n",
       "    <tr>\n",
       "      <th>3</th>\n",
       "      <td>2016-01-05 17:31:00</td>\n",
       "      <td>2016-01-05 17:45:00</td>\n",
       "      <td>Business</td>\n",
       "      <td>Fort Pierce</td>\n",
       "      <td>Fort Pierce</td>\n",
       "      <td>4.7</td>\n",
       "      <td>Meeting</td>\n",
       "      <td>2016-01-05</td>\n",
       "      <td>17.0</td>\n",
       "      <td>Evening</td>\n",
       "    </tr>\n",
       "    <tr>\n",
       "      <th>4</th>\n",
       "      <td>2016-01-06 14:42:00</td>\n",
       "      <td>2016-01-06 15:49:00</td>\n",
       "      <td>Business</td>\n",
       "      <td>Fort Pierce</td>\n",
       "      <td>West Palm Beach</td>\n",
       "      <td>63.7</td>\n",
       "      <td>Customer Visit</td>\n",
       "      <td>2016-01-06</td>\n",
       "      <td>14.0</td>\n",
       "      <td>Afternoon</td>\n",
       "    </tr>\n",
       "  </tbody>\n",
       "</table>\n",
       "</div>"
      ],
      "text/plain": [
       "           START_DATE            END_DATE  CATEGORY        START  \\\n",
       "0 2016-01-01 21:11:00 2016-01-01 21:17:00  Business  Fort Pierce   \n",
       "1 2016-01-02 01:25:00 2016-01-02 01:37:00  Business  Fort Pierce   \n",
       "2 2016-01-02 20:25:00 2016-01-02 20:38:00  Business  Fort Pierce   \n",
       "3 2016-01-05 17:31:00 2016-01-05 17:45:00  Business  Fort Pierce   \n",
       "4 2016-01-06 14:42:00 2016-01-06 15:49:00  Business  Fort Pierce   \n",
       "\n",
       "              STOP  MILES          PURPOSE        DATE  TIME  DAY_NIGHT  \n",
       "0      Fort Pierce    5.1   Meal/Entertain  2016-01-01  21.0      Night  \n",
       "1      Fort Pierce    5.0              NOT  2016-01-02   1.0    Morning  \n",
       "2      Fort Pierce    4.8  Errand/Supplies  2016-01-02  20.0      Night  \n",
       "3      Fort Pierce    4.7          Meeting  2016-01-05  17.0    Evening  \n",
       "4  West Palm Beach   63.7   Customer Visit  2016-01-06  14.0  Afternoon  "
      ]
     },
     "execution_count": 14,
     "metadata": {},
     "output_type": "execute_result"
    }
   ],
   "source": [
    "dataset.head()"
   ]
  },
  {
   "cell_type": "code",
   "execution_count": 15,
   "id": "f30fe821-e83b-400e-98ca-148f938c6183",
   "metadata": {},
   "outputs": [],
   "source": [
    "# Drop all null values\n",
    "dataset.dropna(inplace=True)"
   ]
  },
  {
   "cell_type": "code",
   "execution_count": 16,
   "id": "7075d71b-ef2b-4377-9a84-4aeab3df0209",
   "metadata": {},
   "outputs": [
    {
     "data": {
      "text/plain": [
       "(413, 10)"
      ]
     },
     "execution_count": 16,
     "metadata": {},
     "output_type": "execute_result"
    }
   ],
   "source": [
    "dataset.shape"
   ]
  },
  {
   "cell_type": "code",
   "execution_count": 17,
   "id": "8b38dc07-ffd6-4276-936c-ed7871a0b860",
   "metadata": {},
   "outputs": [],
   "source": [
    "# Add Column Month \n",
    "dataset['MONTH'] = pd.DatetimeIndex(dataset['START_DATE']).month# START_DATE se \n",
    "month_label = {1.0: 'Jan', 2.0: 'Feb', 3.0: 'Mar', 4.0: 'April',\n",
    "               5.0: 'May', 6.0: 'June', 7.0: 'July', 8.0: 'Aug',\n",
    "               9.0: 'Sep', 10.0: 'Oct', 11.0: 'Nov', 12.0: 'Dec'} \n",
    "dataset[\"MONTH\"] = dataset.MONTH.map(month_label) # Number months ko string name\n",
    "mon = dataset.MONTH.value_counts(sort=False) \n"
   ]
  },
  {
   "cell_type": "code",
   "execution_count": 18,
   "id": "8069957c-ed8f-4a0d-92d9-244ba96b045b",
   "metadata": {},
   "outputs": [
    {
     "data": {
      "text/html": [
       "<div>\n",
       "<style scoped>\n",
       "    .dataframe tbody tr th:only-of-type {\n",
       "        vertical-align: middle;\n",
       "    }\n",
       "\n",
       "    .dataframe tbody tr th {\n",
       "        vertical-align: top;\n",
       "    }\n",
       "\n",
       "    .dataframe thead th {\n",
       "        text-align: right;\n",
       "    }\n",
       "</style>\n",
       "<table border=\"1\" class=\"dataframe\">\n",
       "  <thead>\n",
       "    <tr style=\"text-align: right;\">\n",
       "      <th></th>\n",
       "      <th>START_DATE</th>\n",
       "      <th>END_DATE</th>\n",
       "      <th>CATEGORY</th>\n",
       "      <th>START</th>\n",
       "      <th>STOP</th>\n",
       "      <th>MILES</th>\n",
       "      <th>PURPOSE</th>\n",
       "      <th>DATE</th>\n",
       "      <th>TIME</th>\n",
       "      <th>DAY_NIGHT</th>\n",
       "      <th>MONTH</th>\n",
       "    </tr>\n",
       "  </thead>\n",
       "  <tbody>\n",
       "    <tr>\n",
       "      <th>0</th>\n",
       "      <td>2016-01-01 21:11:00</td>\n",
       "      <td>2016-01-01 21:17:00</td>\n",
       "      <td>Business</td>\n",
       "      <td>Fort Pierce</td>\n",
       "      <td>Fort Pierce</td>\n",
       "      <td>5.1</td>\n",
       "      <td>Meal/Entertain</td>\n",
       "      <td>2016-01-01</td>\n",
       "      <td>21.0</td>\n",
       "      <td>Night</td>\n",
       "      <td>Jan</td>\n",
       "    </tr>\n",
       "    <tr>\n",
       "      <th>1</th>\n",
       "      <td>2016-01-02 01:25:00</td>\n",
       "      <td>2016-01-02 01:37:00</td>\n",
       "      <td>Business</td>\n",
       "      <td>Fort Pierce</td>\n",
       "      <td>Fort Pierce</td>\n",
       "      <td>5.0</td>\n",
       "      <td>NOT</td>\n",
       "      <td>2016-01-02</td>\n",
       "      <td>1.0</td>\n",
       "      <td>Morning</td>\n",
       "      <td>Jan</td>\n",
       "    </tr>\n",
       "    <tr>\n",
       "      <th>2</th>\n",
       "      <td>2016-01-02 20:25:00</td>\n",
       "      <td>2016-01-02 20:38:00</td>\n",
       "      <td>Business</td>\n",
       "      <td>Fort Pierce</td>\n",
       "      <td>Fort Pierce</td>\n",
       "      <td>4.8</td>\n",
       "      <td>Errand/Supplies</td>\n",
       "      <td>2016-01-02</td>\n",
       "      <td>20.0</td>\n",
       "      <td>Night</td>\n",
       "      <td>Jan</td>\n",
       "    </tr>\n",
       "    <tr>\n",
       "      <th>3</th>\n",
       "      <td>2016-01-05 17:31:00</td>\n",
       "      <td>2016-01-05 17:45:00</td>\n",
       "      <td>Business</td>\n",
       "      <td>Fort Pierce</td>\n",
       "      <td>Fort Pierce</td>\n",
       "      <td>4.7</td>\n",
       "      <td>Meeting</td>\n",
       "      <td>2016-01-05</td>\n",
       "      <td>17.0</td>\n",
       "      <td>Evening</td>\n",
       "      <td>Jan</td>\n",
       "    </tr>\n",
       "    <tr>\n",
       "      <th>4</th>\n",
       "      <td>2016-01-06 14:42:00</td>\n",
       "      <td>2016-01-06 15:49:00</td>\n",
       "      <td>Business</td>\n",
       "      <td>Fort Pierce</td>\n",
       "      <td>West Palm Beach</td>\n",
       "      <td>63.7</td>\n",
       "      <td>Customer Visit</td>\n",
       "      <td>2016-01-06</td>\n",
       "      <td>14.0</td>\n",
       "      <td>Afternoon</td>\n",
       "      <td>Jan</td>\n",
       "    </tr>\n",
       "  </tbody>\n",
       "</table>\n",
       "</div>"
      ],
      "text/plain": [
       "           START_DATE            END_DATE  CATEGORY        START  \\\n",
       "0 2016-01-01 21:11:00 2016-01-01 21:17:00  Business  Fort Pierce   \n",
       "1 2016-01-02 01:25:00 2016-01-02 01:37:00  Business  Fort Pierce   \n",
       "2 2016-01-02 20:25:00 2016-01-02 20:38:00  Business  Fort Pierce   \n",
       "3 2016-01-05 17:31:00 2016-01-05 17:45:00  Business  Fort Pierce   \n",
       "4 2016-01-06 14:42:00 2016-01-06 15:49:00  Business  Fort Pierce   \n",
       "\n",
       "              STOP  MILES          PURPOSE        DATE  TIME  DAY_NIGHT MONTH  \n",
       "0      Fort Pierce    5.1   Meal/Entertain  2016-01-01  21.0      Night   Jan  \n",
       "1      Fort Pierce    5.0              NOT  2016-01-02   1.0    Morning   Jan  \n",
       "2      Fort Pierce    4.8  Errand/Supplies  2016-01-02  20.0      Night   Jan  \n",
       "3      Fort Pierce    4.7          Meeting  2016-01-05  17.0    Evening   Jan  \n",
       "4  West Palm Beach   63.7   Customer Visit  2016-01-06  14.0  Afternoon   Jan  "
      ]
     },
     "execution_count": 18,
     "metadata": {},
     "output_type": "execute_result"
    }
   ],
   "source": [
    "dataset.head()"
   ]
  },
  {
   "cell_type": "code",
   "execution_count": 19,
   "id": "f7bcb6f2-e11c-4c33-8b74-e99f38e2c1ab",
   "metadata": {},
   "outputs": [],
   "source": [
    "# Add column Day \n",
    "dataset['DAY']=dataset.START_DATE.dt.weekday\n",
    "day_label={0:'Mon',1:'Tues',2:'Wed',3:'Thur',4:'Fri',5:'Sat',6:'Sun'}\n",
    "dataset['DAY']=dataset['DAY'].map(day_label)"
   ]
  },
  {
   "cell_type": "code",
   "execution_count": 20,
   "id": "b7fa4a10-f2af-4c3b-b3cb-85462d681dbc",
   "metadata": {},
   "outputs": [
    {
     "data": {
      "text/html": [
       "<div>\n",
       "<style scoped>\n",
       "    .dataframe tbody tr th:only-of-type {\n",
       "        vertical-align: middle;\n",
       "    }\n",
       "\n",
       "    .dataframe tbody tr th {\n",
       "        vertical-align: top;\n",
       "    }\n",
       "\n",
       "    .dataframe thead th {\n",
       "        text-align: right;\n",
       "    }\n",
       "</style>\n",
       "<table border=\"1\" class=\"dataframe\">\n",
       "  <thead>\n",
       "    <tr style=\"text-align: right;\">\n",
       "      <th></th>\n",
       "      <th>START_DATE</th>\n",
       "      <th>END_DATE</th>\n",
       "      <th>CATEGORY</th>\n",
       "      <th>START</th>\n",
       "      <th>STOP</th>\n",
       "      <th>MILES</th>\n",
       "      <th>PURPOSE</th>\n",
       "      <th>DATE</th>\n",
       "      <th>TIME</th>\n",
       "      <th>DAY_NIGHT</th>\n",
       "      <th>MONTH</th>\n",
       "      <th>DAY</th>\n",
       "    </tr>\n",
       "  </thead>\n",
       "  <tbody>\n",
       "    <tr>\n",
       "      <th>0</th>\n",
       "      <td>2016-01-01 21:11:00</td>\n",
       "      <td>2016-01-01 21:17:00</td>\n",
       "      <td>Business</td>\n",
       "      <td>Fort Pierce</td>\n",
       "      <td>Fort Pierce</td>\n",
       "      <td>5.1</td>\n",
       "      <td>Meal/Entertain</td>\n",
       "      <td>2016-01-01</td>\n",
       "      <td>21.0</td>\n",
       "      <td>Night</td>\n",
       "      <td>Jan</td>\n",
       "      <td>Fri</td>\n",
       "    </tr>\n",
       "    <tr>\n",
       "      <th>1</th>\n",
       "      <td>2016-01-02 01:25:00</td>\n",
       "      <td>2016-01-02 01:37:00</td>\n",
       "      <td>Business</td>\n",
       "      <td>Fort Pierce</td>\n",
       "      <td>Fort Pierce</td>\n",
       "      <td>5.0</td>\n",
       "      <td>NOT</td>\n",
       "      <td>2016-01-02</td>\n",
       "      <td>1.0</td>\n",
       "      <td>Morning</td>\n",
       "      <td>Jan</td>\n",
       "      <td>Sat</td>\n",
       "    </tr>\n",
       "    <tr>\n",
       "      <th>2</th>\n",
       "      <td>2016-01-02 20:25:00</td>\n",
       "      <td>2016-01-02 20:38:00</td>\n",
       "      <td>Business</td>\n",
       "      <td>Fort Pierce</td>\n",
       "      <td>Fort Pierce</td>\n",
       "      <td>4.8</td>\n",
       "      <td>Errand/Supplies</td>\n",
       "      <td>2016-01-02</td>\n",
       "      <td>20.0</td>\n",
       "      <td>Night</td>\n",
       "      <td>Jan</td>\n",
       "      <td>Sat</td>\n",
       "    </tr>\n",
       "    <tr>\n",
       "      <th>3</th>\n",
       "      <td>2016-01-05 17:31:00</td>\n",
       "      <td>2016-01-05 17:45:00</td>\n",
       "      <td>Business</td>\n",
       "      <td>Fort Pierce</td>\n",
       "      <td>Fort Pierce</td>\n",
       "      <td>4.7</td>\n",
       "      <td>Meeting</td>\n",
       "      <td>2016-01-05</td>\n",
       "      <td>17.0</td>\n",
       "      <td>Evening</td>\n",
       "      <td>Jan</td>\n",
       "      <td>Tues</td>\n",
       "    </tr>\n",
       "    <tr>\n",
       "      <th>4</th>\n",
       "      <td>2016-01-06 14:42:00</td>\n",
       "      <td>2016-01-06 15:49:00</td>\n",
       "      <td>Business</td>\n",
       "      <td>Fort Pierce</td>\n",
       "      <td>West Palm Beach</td>\n",
       "      <td>63.7</td>\n",
       "      <td>Customer Visit</td>\n",
       "      <td>2016-01-06</td>\n",
       "      <td>14.0</td>\n",
       "      <td>Afternoon</td>\n",
       "      <td>Jan</td>\n",
       "      <td>Wed</td>\n",
       "    </tr>\n",
       "  </tbody>\n",
       "</table>\n",
       "</div>"
      ],
      "text/plain": [
       "           START_DATE            END_DATE  CATEGORY        START  \\\n",
       "0 2016-01-01 21:11:00 2016-01-01 21:17:00  Business  Fort Pierce   \n",
       "1 2016-01-02 01:25:00 2016-01-02 01:37:00  Business  Fort Pierce   \n",
       "2 2016-01-02 20:25:00 2016-01-02 20:38:00  Business  Fort Pierce   \n",
       "3 2016-01-05 17:31:00 2016-01-05 17:45:00  Business  Fort Pierce   \n",
       "4 2016-01-06 14:42:00 2016-01-06 15:49:00  Business  Fort Pierce   \n",
       "\n",
       "              STOP  MILES          PURPOSE        DATE  TIME  DAY_NIGHT MONTH  \\\n",
       "0      Fort Pierce    5.1   Meal/Entertain  2016-01-01  21.0      Night   Jan   \n",
       "1      Fort Pierce    5.0              NOT  2016-01-02   1.0    Morning   Jan   \n",
       "2      Fort Pierce    4.8  Errand/Supplies  2016-01-02  20.0      Night   Jan   \n",
       "3      Fort Pierce    4.7          Meeting  2016-01-05  17.0    Evening   Jan   \n",
       "4  West Palm Beach   63.7   Customer Visit  2016-01-06  14.0  Afternoon   Jan   \n",
       "\n",
       "    DAY  \n",
       "0   Fri  \n",
       "1   Sat  \n",
       "2   Sat  \n",
       "3  Tues  \n",
       "4   Wed  "
      ]
     },
     "execution_count": 20,
     "metadata": {},
     "output_type": "execute_result"
    }
   ],
   "source": [
    "dataset.head()"
   ]
  },
  {
   "cell_type": "markdown",
   "id": "ff662306-7d6e-46a2-b727-7815d766c636",
   "metadata": {},
   "source": [
    "# Data Visualization"
   ]
  },
  {
   "cell_type": "code",
   "execution_count": 62,
   "id": "d91b60c7-77f1-4752-b210-189d3bc007e7",
   "metadata": {},
   "outputs": [
    {
     "data": {
      "text/plain": [
       "Text(0.5, 1.0, 'Purpose of booking Uber ')"
      ]
     },
     "execution_count": 62,
     "metadata": {},
     "output_type": "execute_result"
    },
    {
     "data": {
      "image/png": "[encoded data removed]",
      "text/plain": [
       "<Figure size 2000x500 with 2 Axes>"
      ]
     },
     "metadata": {},
     "output_type": "display_data"
    }
   ],
   "source": [
    "# Q1 In Which Category do people book to most Uber rides ?\n",
    "plt.figure(figsize=(20,5))\n",
    "plt.subplot(1,2,1)\n",
    "sns.countplot(dataset['CATEGORY'])\n",
    "plt.xticks(rotation=90)\n",
    "plt.title('Top Categories of booking Uber ')\n",
    "\n",
    "#Q2 For Which Purpose do people book uber ride most ?\n",
    "plt.subplot(1,2,2)\n",
    "sns.countplot(dataset['PURPOSE'])\n",
    "plt.title('Purpose of booking Uber ')"
   ]
  },
  {
   "cell_type": "code",
   "execution_count": 23,
   "id": "19aac52b-c238-4321-997a-a9b7b265e2f4",
   "metadata": {},
   "outputs": [
    {
     "data": {
      "text/plain": [
       "Text(0.5, 1.0, 'Preferred time for Booking Uber by people  ')"
      ]
     },
     "execution_count": 23,
     "metadata": {},
     "output_type": "execute_result"
    },
    {
     "data": {
      "image/png": "[encoded data removed]",
      "text/plain": [
       "<Figure size 640x480 with 1 Axes>"
      ]
     },
     "metadata": {},
     "output_type": "display_data"
    }
   ],
   "source": [
    "#Q3 At what time do people book cabs to most from Uber \n",
    "sns.countplot(dataset['DAY_NIGHT'])\n",
    "plt.title('Preferred time for Booking Uber by people  ')"
   ]
  },
  {
   "cell_type": "code",
   "execution_count": 24,
   "id": "5e88cb2b-0e97-4b5b-a17d-02c507682b10",
   "metadata": {},
   "outputs": [
    {
     "data": {
      "text/plain": [
       "[Text(0.5, 0, 'MONTHS'), Text(0, 0.5, 'VALUE COUNT')]"
      ]
     },
     "execution_count": 24,
     "metadata": {},
     "output_type": "execute_result"
    },
    {
     "data": {
      "image/png": "[encoded data removed]",
      "text/plain": [
       "<Figure size 640x480 with 1 Axes>"
      ]
     },
     "metadata": {},
     "output_type": "display_data"
    }
   ],
   "source": [
    "# Q4 In which month do people book the most Uber Rides \n",
    "df = pd.DataFrame({\n",
    "    \"MONTHS\": mon.values,\n",
    "    \"VALUE COUNT\": dataset.groupby('MONTH', sort=False)['MILES'].max()\n",
    " })\n",
    "p = sns.lineplot(data=df) \n",
    "p.set(xlabel=\"MONTHS\", ylabel=\"VALUE COUNT\") "
   ]
  },
  {
   "cell_type": "code",
   "execution_count": 64,
   "id": "06c6627d-d3e0-4e48-8873-e1b8a34c0d8e",
   "metadata": {},
   "outputs": [
    {
     "data": {
      "text/plain": [
       "Text(0.5, 1.0, 'Preferred Days for booking Uber rides')"
      ]
     },
     "execution_count": 64,
     "metadata": {},
     "output_type": "execute_result"
    },
    {
     "data": {
      "image/png": "[encoded data removed]",
      "text/plain": [
       "<Figure size 640x480 with 1 Axes>"
      ]
     },
     "metadata": {},
     "output_type": "display_data"
    }
   ],
   "source": [
    "# Q5 On which days of the week do people book uber rides most ?\n",
    "day_label=dataset.DAY.value_counts()\n",
    "sns.barplot(x=day_label.index,\n",
    "            y=day_label)\n",
    "plt.xlabel('DAY')\n",
    "plt.ylabel('COUNT')\n",
    "plt.title('Preferred Days for booking Uber rides')"
   ]
  },
  {
   "cell_type": "code",
   "execution_count": 26,
   "id": "cf7dae9c-796a-4195-bdb1-821e0271f510",
   "metadata": {},
   "outputs": [
    {
     "data": {
      "text/plain": [
       "<Axes: ylabel='MILES'>"
      ]
     },
     "execution_count": 26,
     "metadata": {},
     "output_type": "execute_result"
    },
    {
     "data": {
      "image/png": "[encoded data removed]",
      "text/plain": [
       "<Figure size 640x480 with 1 Axes>"
      ]
     },
     "metadata": {},
     "output_type": "display_data"
    }
   ],
   "source": [
    "#Q6 How many miles do people usually book a cab through Uber?\n",
    "sns.boxplot(dataset['MILES'])\n"
   ]
  },
  {
   "cell_type": "code",
   "execution_count": 27,
   "id": "7ee6a10e-746f-4d37-b54f-95acc3b14bf9",
   "metadata": {},
   "outputs": [
    {
     "data": {
      "text/plain": [
       "<Axes: ylabel='MILES'>"
      ]
     },
     "execution_count": 27,
     "metadata": {},
     "output_type": "execute_result"
    },
    {
     "data": {
      "image/png": "[encoded data removed]",
      "text/plain": [
       "<Figure size 640x480 with 1 Axes>"
      ]
     },
     "metadata": {},
     "output_type": "display_data"
    }
   ],
   "source": [
    "sns.boxplot(dataset[dataset['MILES']<100]['MILES'])"
   ]
  },
  {
   "cell_type": "code",
   "execution_count": 28,
   "id": "f0fd4288-7e5f-4062-bd09-676fcf23c049",
   "metadata": {},
   "outputs": [
    {
     "data": {
      "text/plain": [
       "<Axes: ylabel='MILES'>"
      ]
     },
     "execution_count": 28,
     "metadata": {},
     "output_type": "execute_result"
    },
    {
     "data": {
      "image/png": "[encoded data removed]",
      "text/plain": [
       "<Figure size 640x480 with 1 Axes>"
      ]
     },
     "metadata": {},
     "output_type": "display_data"
    }
   ],
   "source": [
    "sns.boxplot(dataset[dataset['MILES']<40]['MILES'])"
   ]
  },
  {
   "cell_type": "code",
   "execution_count": 29,
   "id": "9f8d0028-cf61-462b-961f-bcbbdb759c94",
   "metadata": {},
   "outputs": [
    {
     "name": "stderr",
     "output_type": "stream",
     "text": [
      "C:\\Users\\ADMIN\\AppData\\Local\\Temp\\ipykernel_4744\\2458780766.py:1: UserWarning: \n",
      "\n",
      "`distplot` is a deprecated function and will be removed in seaborn v0.14.0.\n",
      "\n",
      "Please adapt your code to use either `displot` (a figure-level function with\n",
      "similar flexibility) or `histplot` (an axes-level function for histograms).\n",
      "\n",
      "For a guide to updating your code to use the new functions, please see\n",
      "https://gist.github.com/mwaskom/de44147ed2974457ad6372750bbe5751\n",
      "\n",
      "  sns.distplot(dataset[dataset['MILES'] < 40 ]['MILES'])\n"
     ]
    },
    {
     "data": {
      "text/plain": [
       "<Axes: xlabel='MILES', ylabel='Density'>"
      ]
     },
     "execution_count": 29,
     "metadata": {},
     "output_type": "execute_result"
    },
    {
     "data": {
      "image/png": "[encoded data removed]",
      "text/plain": [
       "<Figure size 640x480 with 1 Axes>"
      ]
     },
     "metadata": {},
     "output_type": "display_data"
    }
   ],
   "source": [
    "sns.distplot(dataset[dataset['MILES'] < 40 ]['MILES'])"
   ]
  },
  {
   "cell_type": "code",
   "execution_count": null,
   "id": "a3f14b53-8af2-4b1b-a724-37c9ed4e7821",
   "metadata": {},
   "outputs": [],
   "source": []
  }
 ],
 "metadata": {
  "kernelspec": {
   "display_name": "Python 3 (ipykernel)",
   "language": "python",
   "name": "python3"
  },
  "language_info": {
   "codemirror_mode": {
    "name": "ipython",
    "version": 3
   },
   "file_extension": ".py",
   "mimetype": "text/x-python",
   "name": "python",
   "nbconvert_exporter": "python",
   "pygments_lexer": "ipython3",
   "version": "3.12.4"
  }
 },
 "nbformat": 4,
 "nbformat_minor": 5
}
